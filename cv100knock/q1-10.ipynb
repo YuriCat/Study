{
 "cells": [
  {
   "cell_type": "code",
   "execution_count": null,
   "id": "00e14704",
   "metadata": {},
   "outputs": [],
   "source": [
    "import numpy as np\n",
    "import matplotlib.pyplot as plt\n",
    "import cv2\n",
    "from skimage import io\n",
    "\n",
    "img_orig = io.imread('dataset/images/imori_256x256.png')\n",
    "\n",
    "plt.imshow(img_orig)"
   ]
  },
  {
   "cell_type": "code",
   "execution_count": null,
   "id": "6e0413c0",
   "metadata": {},
   "outputs": [],
   "source": [
    "# Q.1\n",
    "img = img_orig[:,:,::-1]\n",
    "plt.imshow(img)"
   ]
  },
  {
   "cell_type": "code",
   "execution_count": null,
   "id": "d35a7220",
   "metadata": {
    "scrolled": true
   },
   "outputs": [],
   "source": [
    "# Q.2\n",
    "img = img_orig[:,:,0] * 0.2126 + img_orig[:,:,1] * 0.7152 + img_orig[:,:,2] * 0.0722\n",
    "plt.imshow(img, cmap='gray')"
   ]
  },
  {
   "cell_type": "code",
   "execution_count": null,
   "id": "7601cbe1",
   "metadata": {},
   "outputs": [],
   "source": [
    "img_gray = cv2.cvtColor(img_orig, cv2.COLOR_RGB2GRAY)\n",
    "print(img_gray)\n",
    "plt.imshow(img_gray, cmap='gray')"
   ]
  },
  {
   "cell_type": "code",
   "execution_count": null,
   "id": "de3997d8",
   "metadata": {},
   "outputs": [],
   "source": [
    "# Q.3\n",
    "th, img_bin = cv2.threshold(img_gray, 127, 255, cv2.THRESH_BINARY)\n",
    "plt.imshow(img_bin, cmap='gray')"
   ]
  },
  {
   "cell_type": "code",
   "execution_count": null,
   "id": "bdc270c0",
   "metadata": {},
   "outputs": [],
   "source": [
    "img = np.minimum(img_gray // 127, 1) * 255\n",
    "plt.imshow(img, cmap='gray')"
   ]
  },
  {
   "cell_type": "code",
   "execution_count": null,
   "id": "65a6db2c",
   "metadata": {},
   "outputs": [],
   "source": [
    "# Q.4\n",
    "th, img_otsu = cv2.threshold(img_gray, 0, 255, cv2.THRESH_BINARY + cv2.THRESH_OTSU)\n",
    "print('threshold', th)\n",
    "plt.imshow(img_otsu, cmap='gray')"
   ]
  },
  {
   "cell_type": "code",
   "execution_count": null,
   "id": "bc9795d0",
   "metadata": {},
   "outputs": [],
   "source": [
    "threshold = round(np.mean(img_gray))\n",
    "print('threshold', threshold)\n",
    "_, img = cv2.threshold(img_gray, threshold, 255, cv2.THRESH_BINARY, cv2.THRESH_BINARY)\n",
    "plt.imshow(img_otsu, cmap='gray')"
   ]
  },
  {
   "cell_type": "code",
   "execution_count": null,
   "id": "f573b601",
   "metadata": {},
   "outputs": [],
   "source": [
    "# Q.5\n",
    "from matplotlib import cm\n",
    "for i in range(360):\n",
    "    plt.vlines(i, 0, 1, color=cm.hsv(i / 360))"
   ]
  },
  {
   "cell_type": "code",
   "execution_count": null,
   "id": "4566eeab",
   "metadata": {},
   "outputs": [],
   "source": [
    "hsv = cv2.cvtColor(img_orig, cv2.COLOR_RGB2HSV)\n",
    "hsv[..., 0] = (hsv[..., 0] + 90) % 180\n",
    "img_hsv = cv2.cvtColor(hsv, cv2.COLOR_HSV2RGB)\n",
    "plt.imshow(img_hsv)"
   ]
  },
  {
   "cell_type": "code",
   "execution_count": null,
   "id": "c04d3bac",
   "metadata": {},
   "outputs": [],
   "source": [
    "plt.imshow(hsv[..., 0] / 360, cmap='hsv')"
   ]
  },
  {
   "cell_type": "code",
   "execution_count": null,
   "id": "ad907020",
   "metadata": {},
   "outputs": [],
   "source": [
    "plt.imshow(hsv[..., 1] / 360, cmap='gray')"
   ]
  },
  {
   "cell_type": "code",
   "execution_count": null,
   "id": "b96c34ab",
   "metadata": {},
   "outputs": [],
   "source": [
    "plt.imshow(hsv[..., 2] / 360, cmap='gray')"
   ]
  },
  {
   "cell_type": "code",
   "execution_count": null,
   "id": "3b336748",
   "metadata": {},
   "outputs": [],
   "source": [
    "img_madara_orig = io.imread('dataset/images/madara_256x256.png')\n",
    "hsv = cv2.cvtColor(img_madara_orig, cv2.COLOR_RGB2HSV)\n",
    "plt.imshow(hsv[..., 0] / 360, cmap='hsv')"
   ]
  },
  {
   "cell_type": "code",
   "execution_count": null,
   "id": "e5c971ab",
   "metadata": {},
   "outputs": [],
   "source": [
    "plt.imshow(hsv[..., 1] / 360, cmap='gray')"
   ]
  },
  {
   "cell_type": "code",
   "execution_count": null,
   "id": "8830b657",
   "metadata": {},
   "outputs": [],
   "source": [
    "plt.imshow(hsv[..., 2] / 360, cmap='gray')"
   ]
  },
  {
   "cell_type": "code",
   "execution_count": null,
   "id": "04bb89a6",
   "metadata": {},
   "outputs": [],
   "source": [
    "# Q.6\n",
    "th = 256 // 4\n",
    "img = np.clip(img_orig // th * th + th // 2, 0, 255)\n",
    "plt.imshow(img)"
   ]
  },
  {
   "cell_type": "code",
   "execution_count": null,
   "id": "81224037",
   "metadata": {},
   "outputs": [],
   "source": [
    "th = 256 // 8\n",
    "img = np.clip(img_orig // th * th + th // 2, 0, 255)\n",
    "plt.imshow(img)"
   ]
  },
  {
   "cell_type": "code",
   "execution_count": null,
   "id": "ea9d956a",
   "metadata": {},
   "outputs": [],
   "source": [
    "# Q.7\n"
   ]
  }
 ],
 "metadata": {
  "kernelspec": {
   "display_name": "Python 3 (ipykernel)",
   "language": "python",
   "name": "python3"
  },
  "language_info": {
   "codemirror_mode": {
    "name": "ipython",
    "version": 3
   },
   "file_extension": ".py",
   "mimetype": "text/x-python",
   "name": "python",
   "nbconvert_exporter": "python",
   "pygments_lexer": "ipython3",
   "version": "3.9.6"
  }
 },
 "nbformat": 4,
 "nbformat_minor": 5
}
