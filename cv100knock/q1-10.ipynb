{
 "cells": [
  {
   "cell_type": "code",
   "execution_count": null,
   "id": "6c1615b3",
   "metadata": {},
   "outputs": [],
   "source": [
    "import numpy as np\n",
    "import matplotlib.pyplot as plt\n",
    "import cv2\n",
    "from skimage import io\n",
    "\n",
    "img_orig = io.imread('dataset/images/imori_256x256.png')\n",
    "\n",
    "plt.imshow(img_orig)"
   ]
  },
  {
   "cell_type": "code",
   "execution_count": null,
   "id": "15a26400",
   "metadata": {},
   "outputs": [],
   "source": [
    "# Q.1\n",
    "img = img_orig[:,:,::-1]\n",
    "plt.imshow(img)"
   ]
  },
  {
   "cell_type": "code",
   "execution_count": null,
   "id": "3be72629",
   "metadata": {
    "scrolled": true
   },
   "outputs": [],
   "source": [
    "# Q.2\n",
    "img = img_orig[:,:,0] * 0.2126 + img_orig[:,:,1] * 0.7152 + img_orig[:,:,2] * 0.0722\n",
    "plt.imshow(img, cmap='gray')"
   ]
  },
  {
   "cell_type": "code",
   "execution_count": null,
   "id": "0052910f",
   "metadata": {},
   "outputs": [],
   "source": [
    "img_gray = cv2.cvtColor(img_orig, cv2.COLOR_RGB2GRAY)\n",
    "print(img_gray)\n",
    "plt.imshow(img_gray, cmap='gray')"
   ]
  },
  {
   "cell_type": "code",
   "execution_count": null,
   "id": "72d38c2e",
   "metadata": {},
   "outputs": [],
   "source": [
    "# Q.3\n",
    "th, img_bin = cv2.threshold(img_gray, 127, 255, cv2.THRESH_BINARY)\n",
    "plt.imshow(img_bin, cmap='gray')"
   ]
  },
  {
   "cell_type": "code",
   "execution_count": null,
   "id": "0bdf620c",
   "metadata": {},
   "outputs": [],
   "source": [
    "img = np.minimum(img_gray // 127, 1) * 255\n",
    "plt.imshow(img, cmap='gray')"
   ]
  },
  {
   "cell_type": "code",
   "execution_count": null,
   "id": "1eae7a09",
   "metadata": {},
   "outputs": [],
   "source": [
    "# Q.4\n",
    "th, img_otsu = cv2.threshold(img_gray, 0, 255, cv2.THRESH_BINARY + cv2.THRESH_OTSU)\n",
    "print('threshold', th)\n",
    "plt.imshow(img_otsu, cmap='gray')"
   ]
  },
  {
   "cell_type": "code",
   "execution_count": null,
   "id": "246d5e80",
   "metadata": {},
   "outputs": [],
   "source": [
    "threshold = round(np.mean(img_gray))\n",
    "print('threshold', threshold)\n",
    "_, img = cv2.threshold(img_gray, threshold, 255, cv2.THRESH_BINARY, cv2.THRESH_BINARY)\n",
    "plt.imshow(img_otsu, cmap='gray')"
   ]
  },
  {
   "cell_type": "code",
   "execution_count": null,
   "id": "e590e8a5",
   "metadata": {},
   "outputs": [],
   "source": [
    "# Q.5\n",
    "from matplotlib import cm\n",
    "for i in range(360):\n",
    "    plt.vlines(i, 0, 1, color=cm.hsv(i / 360))"
   ]
  },
  {
   "cell_type": "code",
   "execution_count": null,
   "id": "ea302605",
   "metadata": {},
   "outputs": [],
   "source": [
    "hsv = cv2.cvtColor(img_orig, cv2.COLOR_RGB2HSV)\n",
    "hsv[..., 0] = (hsv[..., 0] + 90) % 180\n",
    "img_hsv = cv2.cvtColor(hsv, cv2.COLOR_HSV2RGB)\n",
    "plt.imshow(img_hsv)"
   ]
  },
  {
   "cell_type": "code",
   "execution_count": null,
   "id": "a6a0e9a2",
   "metadata": {},
   "outputs": [],
   "source": [
    "plt.imshow(hsv[..., 0] / 360, cmap='hsv')"
   ]
  },
  {
   "cell_type": "code",
   "execution_count": null,
   "id": "b9066e4f",
   "metadata": {},
   "outputs": [],
   "source": [
    "plt.imshow(hsv[..., 1] / 360, cmap='gray')"
   ]
  },
  {
   "cell_type": "code",
   "execution_count": null,
   "id": "1663e67f",
   "metadata": {},
   "outputs": [],
   "source": [
    "plt.imshow(hsv[..., 2] / 360, cmap='gray')"
   ]
  },
  {
   "cell_type": "code",
   "execution_count": null,
   "id": "b9a6866b",
   "metadata": {},
   "outputs": [],
   "source": [
    "img_madara_orig = io.imread('dataset/images/madara_256x256.png')\n",
    "hsv = cv2.cvtColor(img_madara_orig, cv2.COLOR_RGB2HSV)\n",
    "plt.imshow(hsv[..., 0] / 360, cmap='hsv')"
   ]
  },
  {
   "cell_type": "code",
   "execution_count": null,
   "id": "df032d2e",
   "metadata": {},
   "outputs": [],
   "source": [
    "plt.imshow(hsv[..., 1] / 360, cmap='gray')"
   ]
  },
  {
   "cell_type": "code",
   "execution_count": null,
   "id": "fe607ff6",
   "metadata": {},
   "outputs": [],
   "source": [
    "plt.imshow(hsv[..., 2] / 360, cmap='gray')"
   ]
  },
  {
   "cell_type": "code",
   "execution_count": null,
   "id": "a785507a",
   "metadata": {},
   "outputs": [],
   "source": [
    "# Q.6\n",
    "th = 256 // 4\n",
    "img = np.clip(img_orig // th * th + th // 2, 0, 255)\n",
    "plt.imshow(img)"
   ]
  },
  {
   "cell_type": "code",
   "execution_count": null,
   "id": "46bfbbf7",
   "metadata": {},
   "outputs": [],
   "source": [
    "th = 256 // 8\n",
    "img = np.clip(img_orig // th * th + th // 2, 0, 255)\n",
    "plt.imshow(img)"
   ]
  },
  {
   "cell_type": "code",
   "execution_count": null,
   "id": "0d577f22",
   "metadata": {},
   "outputs": [],
   "source": [
    "# Q.7\n",
    "import skimage.measure\n",
    "img = skimage.measure.block_reduce(img_orig, (2,2,1), np.mean).clip(0, 255).astype(np.uint8)\n",
    "print(img.shape)\n",
    "plt.imshow(img)"
   ]
  },
  {
   "cell_type": "code",
   "execution_count": null,
   "id": "6c477a35",
   "metadata": {},
   "outputs": [],
   "source": [
    "img = skimage.measure.block_reduce(img_orig, (8,8,1), np.mean).clip(0, 255).astype(np.uint8)\n",
    "print(img.shape)\n",
    "plt.imshow(img)"
   ]
  },
  {
   "cell_type": "code",
   "execution_count": null,
   "id": "e84be315",
   "metadata": {},
   "outputs": [],
   "source": [
    "img = cv2.blur(img_orig,(5,5))\n",
    "print(img.shape)\n",
    "plt.imshow(img)"
   ]
  },
  {
   "cell_type": "code",
   "execution_count": null,
   "id": "7699bf0c",
   "metadata": {},
   "outputs": [],
   "source": [
    "img = cv2.blur(img_orig,(25,25))\n",
    "print(img.shape)\n",
    "plt.imshow(img)"
   ]
  },
  {
   "cell_type": "code",
   "execution_count": null,
   "id": "1e280279",
   "metadata": {},
   "outputs": [],
   "source": [
    "# Q.8\n",
    "img = skimage.measure.block_reduce(img_orig, (2,2,1), np.max)\n",
    "print(img.shape)\n",
    "plt.imshow(img)"
   ]
  },
  {
   "cell_type": "code",
   "execution_count": null,
   "id": "b606ede5",
   "metadata": {},
   "outputs": [],
   "source": [
    "img = skimage.measure.block_reduce(img_orig, (8,8,1), np.max)\n",
    "print(img.shape)\n",
    "plt.imshow(img)"
   ]
  },
  {
   "cell_type": "code",
   "execution_count": null,
   "id": "c47088a2",
   "metadata": {},
   "outputs": [],
   "source": [
    "# Q.9\n",
    "img = cv2.GaussianBlur(img_orig,(5,5),0)\n",
    "plt.imshow(img)"
   ]
  },
  {
   "cell_type": "code",
   "execution_count": null,
   "id": "28b484f1",
   "metadata": {},
   "outputs": [],
   "source": [
    "img = cv2.GaussianBlur(img_orig,(25,25),0)\n",
    "plt.imshow(img)"
   ]
  },
  {
   "cell_type": "code",
   "execution_count": null,
   "id": "2797328d",
   "metadata": {},
   "outputs": [],
   "source": [
    "# Q.10\n",
    "img = cv2.medianBlur(img_orig,5)\n",
    "plt.imshow(img)"
   ]
  },
  {
   "cell_type": "code",
   "execution_count": null,
   "id": "0dabc5b0",
   "metadata": {},
   "outputs": [],
   "source": [
    "img = cv2.medianBlur(img_orig,25)\n",
    "plt.imshow(img)"
   ]
  }
 ],
 "metadata": {
  "kernelspec": {
   "display_name": "Python 3 (ipykernel)",
   "language": "python",
   "name": "python3"
  },
  "language_info": {
   "codemirror_mode": {
    "name": "ipython",
    "version": 3
   },
   "file_extension": ".py",
   "mimetype": "text/x-python",
   "name": "python",
   "nbconvert_exporter": "python",
   "pygments_lexer": "ipython3",
   "version": "3.9.6"
  }
 },
 "nbformat": 4,
 "nbformat_minor": 5
}
