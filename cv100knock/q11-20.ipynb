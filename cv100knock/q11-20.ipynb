{
 "cells": [
  {
   "cell_type": "code",
   "execution_count": null,
   "id": "f5b3b0a4",
   "metadata": {},
   "outputs": [],
   "source": [
    "import numpy as np\n",
    "import matplotlib.pyplot as plt\n",
    "import cv2\n",
    "from skimage import io\n",
    "\n",
    "img_orig = io.imread('dataset/images/imori_256x256.png')\n",
    "img_noise = io.imread('dataset/images/imori_256x256_noise.png')\n",
    "img_gray = cv2.cvtColor(img_orig, cv2.COLOR_RGB2GRAY)\n",
    "\n",
    "plt.subplot(1, 3, 1); plt.imshow(img_orig); plt.title('orig')\n",
    "plt.subplot(1, 3, 2); plt.imshow(img_noise); plt.title('noise')\n",
    "plt.subplot(1, 3, 3); plt.imshow(img_gray, cmap='gray'); plt.title('gray')\n",
    "plt.show()"
   ]
  },
  {
   "cell_type": "code",
   "execution_count": null,
   "id": "b5f57ebd",
   "metadata": {},
   "outputs": [],
   "source": [
    "# Q.11\n",
    "img_smooth = cv2.blur(img_noise, (5, 5))\n",
    "plt.imshow(img_smooth)"
   ]
  },
  {
   "cell_type": "code",
   "execution_count": null,
   "id": "9e3c9345",
   "metadata": {},
   "outputs": [],
   "source": [
    "img = cv2.blur(img_noise, (25, 25))\n",
    "plt.imshow(img)"
   ]
  },
  {
   "cell_type": "code",
   "execution_count": null,
   "id": "5f798407",
   "metadata": {},
   "outputs": [],
   "source": [
    "# Q.12\n"
   ]
  }
 ],
 "metadata": {
  "kernelspec": {
   "display_name": "Python 3 (ipykernel)",
   "language": "python",
   "name": "python3"
  },
  "language_info": {
   "codemirror_mode": {
    "name": "ipython",
    "version": 3
   },
   "file_extension": ".py",
   "mimetype": "text/x-python",
   "name": "python",
   "nbconvert_exporter": "python",
   "pygments_lexer": "ipython3",
   "version": "3.9.6"
  }
 },
 "nbformat": 4,
 "nbformat_minor": 5
}
